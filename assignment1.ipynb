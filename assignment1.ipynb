{
  "nbformat": 4,
  "nbformat_minor": 0,
  "metadata": {
    "colab": {
      "provenance": []
    },
    "kernelspec": {
      "name": "python3",
      "display_name": "Python 3"
    },
    "language_info": {
      "name": "python"
    }
  },
  "cells": [
    {
      "cell_type": "code",
      "execution_count": 6,
      "metadata": {
        "colab": {
          "base_uri": "https://localhost:8080/"
        },
        "id": "JL9CK2UnO3Kw",
        "outputId": "a9aa76ca-ba02-4e0b-a78e-3e92bad599b2"
      },
      "outputs": [
        {
          "output_type": "execute_result",
          "data": {
            "text/plain": [
              "str"
            ]
          },
          "metadata": {},
          "execution_count": 6
        }
      ],
      "source": [
        "#q1\n",
        "s=\"string\"\n",
        "type(s)"
      ]
    },
    {
      "cell_type": "code",
      "source": [
        "l=['l','i','s','t']\n",
        "type(l)"
      ],
      "metadata": {
        "colab": {
          "base_uri": "https://localhost:8080/"
        },
        "id": "AMjav77JQeky",
        "outputId": "b8d9bb8a-f287-44b9-ecdf-6ad541fb16e8"
      },
      "execution_count": 7,
      "outputs": [
        {
          "output_type": "execute_result",
          "data": {
            "text/plain": [
              "list"
            ]
          },
          "metadata": {},
          "execution_count": 7
        }
      ]
    },
    {
      "cell_type": "code",
      "source": [
        "f=20.03\n",
        "type(f)"
      ],
      "metadata": {
        "colab": {
          "base_uri": "https://localhost:8080/"
        },
        "id": "E9InmkLqQq7m",
        "outputId": "bc622f75-a800-4808-bbe6-5a1693027cf6"
      },
      "execution_count": 8,
      "outputs": [
        {
          "output_type": "execute_result",
          "data": {
            "text/plain": [
              "float"
            ]
          },
          "metadata": {},
          "execution_count": 8
        }
      ]
    },
    {
      "cell_type": "code",
      "source": [
        "t=(1,2,3)\n",
        "type(t)"
      ],
      "metadata": {
        "colab": {
          "base_uri": "https://localhost:8080/"
        },
        "id": "JH-fD6L7QsQ0",
        "outputId": "b92ead6b-5576-4f57-964c-91adeeaed21b"
      },
      "execution_count": 10,
      "outputs": [
        {
          "output_type": "execute_result",
          "data": {
            "text/plain": [
              "tuple"
            ]
          },
          "metadata": {},
          "execution_count": 10
        }
      ]
    },
    {
      "cell_type": "code",
      "source": [
        "#q2\n",
        "var1 = ' '\n",
        "type(var1)"
      ],
      "metadata": {
        "colab": {
          "base_uri": "https://localhost:8080/"
        },
        "id": "YMn_-7GRQ2aF",
        "outputId": "9b5005a6-2e08-4dc3-900b-c3a840335999"
      },
      "execution_count": 11,
      "outputs": [
        {
          "output_type": "execute_result",
          "data": {
            "text/plain": [
              "str"
            ]
          },
          "metadata": {},
          "execution_count": 11
        }
      ]
    },
    {
      "cell_type": "code",
      "source": [
        "var2='[DS,ML,Python]'\n",
        "type(var2)"
      ],
      "metadata": {
        "colab": {
          "base_uri": "https://localhost:8080/"
        },
        "id": "7h5xXIoDRSUq",
        "outputId": "f4bd1694-033c-4ecb-f555-920a5003ad69"
      },
      "execution_count": 12,
      "outputs": [
        {
          "output_type": "execute_result",
          "data": {
            "text/plain": [
              "str"
            ]
          },
          "metadata": {},
          "execution_count": 12
        }
      ]
    },
    {
      "cell_type": "code",
      "source": [
        "var3 = [ 'DS' , 'ML' , 'Python' ]\n",
        "type(var3)\n"
      ],
      "metadata": {
        "colab": {
          "base_uri": "https://localhost:8080/"
        },
        "id": "ikdcYuHdRfUI",
        "outputId": "6d3f52b8-a86a-475c-88dd-155f94194fd4"
      },
      "execution_count": 13,
      "outputs": [
        {
          "output_type": "execute_result",
          "data": {
            "text/plain": [
              "list"
            ]
          },
          "metadata": {},
          "execution_count": 13
        }
      ]
    },
    {
      "cell_type": "code",
      "source": [
        "var4 = 1.\n",
        "type(var4)"
      ],
      "metadata": {
        "colab": {
          "base_uri": "https://localhost:8080/"
        },
        "id": "8gGeJpevRtP2",
        "outputId": "e4156477-f62a-45c0-995e-e84b186dbc8f"
      },
      "execution_count": 14,
      "outputs": [
        {
          "output_type": "execute_result",
          "data": {
            "text/plain": [
              "float"
            ]
          },
          "metadata": {},
          "execution_count": 14
        }
      ]
    },
    {
      "cell_type": "code",
      "source": [
        "#q3\n",
        "#use of / is for division\n",
        "10/2\n"
      ],
      "metadata": {
        "colab": {
          "base_uri": "https://localhost:8080/"
        },
        "id": "c2Bre8v7SOBn",
        "outputId": "9c2c9247-e880-4304-d260-8106e4b325a1"
      },
      "execution_count": 15,
      "outputs": [
        {
          "output_type": "execute_result",
          "data": {
            "text/plain": [
              "5.0"
            ]
          },
          "metadata": {},
          "execution_count": 15
        }
      ]
    },
    {
      "cell_type": "code",
      "source": [
        "#use of % is for showing remainder\n",
        "10%2"
      ],
      "metadata": {
        "colab": {
          "base_uri": "https://localhost:8080/"
        },
        "id": "RydsCuzTS0YF",
        "outputId": "1340e45e-c396-4af3-9154-871c0af05db8"
      },
      "execution_count": 16,
      "outputs": [
        {
          "output_type": "execute_result",
          "data": {
            "text/plain": [
              "0"
            ]
          },
          "metadata": {},
          "execution_count": 16
        }
      ]
    },
    {
      "cell_type": "code",
      "source": [
        "#use of // is for floor division\n",
        "10//2\n",
        "\n"
      ],
      "metadata": {
        "colab": {
          "base_uri": "https://localhost:8080/"
        },
        "id": "t7E2V0YXS-Js",
        "outputId": "2a35a270-f02c-402a-faa9-d865f823ac65"
      },
      "execution_count": 17,
      "outputs": [
        {
          "output_type": "execute_result",
          "data": {
            "text/plain": [
              "5"
            ]
          },
          "metadata": {},
          "execution_count": 17
        }
      ]
    },
    {
      "cell_type": "code",
      "source": [
        "#use of ** is for calculating power of a number\n",
        "2**3"
      ],
      "metadata": {
        "colab": {
          "base_uri": "https://localhost:8080/"
        },
        "id": "6XMYb69cTIyE",
        "outputId": "900cdae2-615b-45f4-b0ff-91f76a175217"
      },
      "execution_count": 18,
      "outputs": [
        {
          "output_type": "execute_result",
          "data": {
            "text/plain": [
              "8"
            ]
          },
          "metadata": {},
          "execution_count": 18
        }
      ]
    },
    {
      "cell_type": "code",
      "source": [
        "#Q4. Create a list of length 10 of your choice containing multiple types of data.\n",
        "#Using for loop print the element and its data type.\n",
        "l1=[1,'s',3.0,True,False,'sss',2,4,6,5]\n",
        "for i in l1:  \n",
        "  print(i)\n",
        "for j in range(10):\n",
        "  type(l1[j])\n",
        "  "
      ],
      "metadata": {
        "colab": {
          "base_uri": "https://localhost:8080/"
        },
        "id": "Y1s5vDGOTSjS",
        "outputId": "7d24742e-c9bc-4219-9e32-11bdee561d1e"
      },
      "execution_count": 34,
      "outputs": [
        {
          "output_type": "stream",
          "name": "stdout",
          "text": [
            "1\n",
            "s\n",
            "3.0\n",
            "True\n",
            "False\n",
            "sss\n",
            "2\n",
            "4\n",
            "6\n",
            "5\n"
          ]
        }
      ]
    },
    {
      "cell_type": "code",
      "source": [
        "#Q5 Using a while loop, verify if the number A is purely divisible by number B \n",
        "#and if so then how many times it can be divisible.\n",
        "A = int(input(\"Enter val of A: \"))\n",
        "B = int(input(\"Enter val of B: \"))\n",
        "count=0;\n",
        "while A%B==0 :\n",
        "  A=A//B\n",
        "  count=count+1\n",
        "print(\"Number A is divisible by number B\", count, \"times.\")"
      ],
      "metadata": {
        "colab": {
          "base_uri": "https://localhost:8080/"
        },
        "id": "Fn6LdqPgT1Nj",
        "outputId": "a21bdeb6-cc20-4006-879c-4cde951f7a00"
      },
      "execution_count": 35,
      "outputs": [
        {
          "output_type": "stream",
          "name": "stdout",
          "text": [
            "Enter val of A: 36\n",
            "Enter val of B: 6\n",
            "Number A is divisible by number B 2 times.\n"
          ]
        }
      ]
    },
    {
      "cell_type": "code",
      "source": [
        "#Q6. Create a list containing 25 int type data. Using for loop and if-else \n",
        "#condition print if the element is divisible by 3 or not.\n",
        "lis1=range(25)\n",
        "for i in lis1:\n",
        "  print(i)\n",
        "  if(i%3==0):\n",
        "    print(i,\"is divisible by 3\")\n",
        "  else:\n",
        "    print(i,\"is not divisible by 3\")\n"
      ],
      "metadata": {
        "colab": {
          "base_uri": "https://localhost:8080/"
        },
        "id": "Z6xRASeNXa2O",
        "outputId": "dab43010-575a-4181-c06f-c38d46a92139"
      },
      "execution_count": 41,
      "outputs": [
        {
          "output_type": "stream",
          "name": "stdout",
          "text": [
            "0\n",
            "0 is divisible by 3\n",
            "1\n",
            "1 is not divisible by 3\n",
            "2\n",
            "2 is not divisible by 3\n",
            "3\n",
            "3 is divisible by 3\n",
            "4\n",
            "4 is not divisible by 3\n",
            "5\n",
            "5 is not divisible by 3\n",
            "6\n",
            "6 is divisible by 3\n",
            "7\n",
            "7 is not divisible by 3\n",
            "8\n",
            "8 is not divisible by 3\n",
            "9\n",
            "9 is divisible by 3\n",
            "10\n",
            "10 is not divisible by 3\n",
            "11\n",
            "11 is not divisible by 3\n",
            "12\n",
            "12 is divisible by 3\n",
            "13\n",
            "13 is not divisible by 3\n",
            "14\n",
            "14 is not divisible by 3\n",
            "15\n",
            "15 is divisible by 3\n",
            "16\n",
            "16 is not divisible by 3\n",
            "17\n",
            "17 is not divisible by 3\n",
            "18\n",
            "18 is divisible by 3\n",
            "19\n",
            "19 is not divisible by 3\n",
            "20\n",
            "20 is not divisible by 3\n",
            "21\n",
            "21 is divisible by 3\n",
            "22\n",
            "22 is not divisible by 3\n",
            "23\n",
            "23 is not divisible by 3\n",
            "24\n",
            "24 is divisible by 3\n"
          ]
        }
      ]
    },
    {
      "cell_type": "code",
      "source": [
        "#mutable data types are those which can changed at indexes example list\n",
        "list1=[1,2,3,4,5]\n",
        "print(list1[:])\n",
        "list1[2]=9#changed\n",
        "print(list1[:])\n",
        "\n"
      ],
      "metadata": {
        "colab": {
          "base_uri": "https://localhost:8080/"
        },
        "id": "_OKgNPsBX9oA",
        "outputId": "1e9c4fa5-3e01-40cd-9dee-8db29a577783"
      },
      "execution_count": 42,
      "outputs": [
        {
          "output_type": "stream",
          "name": "stdout",
          "text": [
            "[1, 2, 3, 4, 5]\n",
            "[1, 2, 9, 4, 5]\n"
          ]
        }
      ]
    },
    {
      "cell_type": "code",
      "source": [
        "\n",
        "#immutable data types cannot be changed at indexes example string\n",
        "s='sjjr'\n",
        "#s[2]='k'\n",
        "#shows error"
      ],
      "metadata": {
        "id": "PYVvn1bqZjhk"
      },
      "execution_count": 44,
      "outputs": []
    }
  ]
}