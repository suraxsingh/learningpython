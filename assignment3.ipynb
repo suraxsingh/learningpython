{
  "nbformat": 4,
  "nbformat_minor": 0,
  "metadata": {
    "colab": {
      "provenance": []
    },
    "kernelspec": {
      "name": "python3",
      "display_name": "Python 3"
    },
    "language_info": {
      "name": "python"
    }
  },
  "cells": [
    {
      "cell_type": "code",
      "execution_count": 2,
      "metadata": {
        "colab": {
          "base_uri": "https://localhost:8080/"
        },
        "id": "BvH-U8IWuKny",
        "outputId": "549f5a6e-f682-4b59-8f0a-5453d045b3b1"
      },
      "outputs": [
        {
          "output_type": "execute_result",
          "data": {
            "text/plain": [
              "[1, 3, 5, 7, 9]"
            ]
          },
          "metadata": {},
          "execution_count": 2
        }
      ],
      "source": [
        "# Q1. Which keyword is used to create a function? Create a function to return a list of odd numbers in the\n",
        "# range of 1 to 25.\n",
        "#def is the keyword used to create function\n",
        "def relist(l):\n",
        "  l1=[]\n",
        "  for i in l:\n",
        "    if i%2!=0:\n",
        "      l1.append(i)\n",
        "  return l1\n",
        "l=[1,2,3,4,5,6,7,8,9]\n",
        "relist(l)"
      ]
    },
    {
      "cell_type": "code",
      "source": [
        "# Q2. Why *args and **kwargs is used in some functions? Create a function each for *args and **kwargs\n",
        "# to demonstrate their use.\n",
        "\n",
        "# The *args and **kwargs parameters in Python functions allow you to pass a variable \n",
        "# number of arguments to a function.\n",
        "\n",
        "# *args is used to pass a variable number of non-keyword arguments to a function. \n",
        "# The name args is arbitrary and can be changed, but the asterisk (*) is necessary. \n",
        "# The arguments passed using *args are collected into a tuple within the function.\n",
        "#for ex\n",
        "def printtuple(*args):\n",
        "  print(args)\n",
        "printtuple(1,2,3,4,5)\n",
        "\n",
        "# **kwargs is used to pass a variable number of keyword arguments to a function. \n",
        "# The name kwargs is also arbitrary, but the double asterisks (**) are required. \n",
        "# The arguments passed using **kwargs are collected into a dictionary within the function, \n",
        "# where the keys are the argument names and the values are the corresponding values.\n",
        "#for ex\n",
        "def printdict(**kwargs):\n",
        "  for i in kwargs.keys():\n",
        "    print(kwargs[i])\n",
        "printdict(name='Suraj',year='2nd',roll=2105)"
      ],
      "metadata": {
        "colab": {
          "base_uri": "https://localhost:8080/"
        },
        "id": "hbadM05_vAqU",
        "outputId": "1c4172e5-9586-4381-8ed2-c87432351796"
      },
      "execution_count": 6,
      "outputs": [
        {
          "output_type": "stream",
          "name": "stdout",
          "text": [
            "(1, 2, 3, 4, 5)\n",
            "Suraj\n",
            "2nd\n",
            "2105\n"
          ]
        }
      ]
    },
    {
      "cell_type": "code",
      "source": [
        "# Q.3)What is an iterator in python? Name the method used to initialise the iterator object and the method\n",
        "# used for iteration. Use these methods to print the first five elements of the given \n",
        "#list [2, 4, 6, 8, 10, 12, 14, 16, 18, 20].\n",
        "# In Python, an iterator is an object that implements the iterator protocol, \n",
        "# which consists of two methods: iter() and next().\n",
        "# The iter() method is used to initialize an iterator object. \n",
        "# It returns the iterator object itself and is called when the iteration is initialized.\n",
        "# The next() method is called to get the next element from the iterator. \n",
        "mylist=[2, 4, 6, 8, 10, 12, 14,16, 18, 20]\n",
        "myiter=iter(mylist)\n",
        "for _ in  range(5):\n",
        "  print(next(myiter))"
      ],
      "metadata": {
        "colab": {
          "base_uri": "https://localhost:8080/"
        },
        "id": "VjUUr4BcxN3x",
        "outputId": "291177fe-56e9-4ccd-ebb8-7c9857acd3b6"
      },
      "execution_count": 8,
      "outputs": [
        {
          "output_type": "stream",
          "name": "stdout",
          "text": [
            "2\n",
            "4\n",
            "6\n",
            "8\n",
            "10\n"
          ]
        }
      ]
    },
    {
      "cell_type": "code",
      "source": [
        "# Q4. What is a generator function in python? Why yield keyword is used?\n",
        "# Give an example of a generator function.\n",
        "\n",
        "# In Python, a generator function is a special type of function that generates a \n",
        "# sequence of values using the yield keyword. \n",
        "\n",
        "# The yield keyword is used in generator functions to define points at which the \n",
        "# function should yield its current value, suspend its execution, and then resume \n",
        "# from where it left off when the next value is requested.\n",
        "#for ex\n",
        "def fib():\n",
        "  a,b=0,1\n",
        "  while True:\n",
        "    yield a\n",
        "    a,b=b,a+b\n",
        "fibo=fib()\n",
        "for _ in range(10):\n",
        "  print(next(fibo))"
      ],
      "metadata": {
        "colab": {
          "base_uri": "https://localhost:8080/"
        },
        "id": "_HDc34bbyped",
        "outputId": "1c83d10b-3e95-42ce-e32a-2a10d6240bf3"
      },
      "execution_count": 12,
      "outputs": [
        {
          "output_type": "stream",
          "name": "stdout",
          "text": [
            "0\n",
            "1\n",
            "1\n",
            "2\n",
            "3\n",
            "5\n",
            "8\n",
            "13\n",
            "21\n",
            "34\n"
          ]
        }
      ]
    },
    {
      "cell_type": "code",
      "source": [
        "# Q5. Create a generator function for prime numbers less than 1000. \n",
        "# Use the next() method to print the first 20 prime numbers.\n",
        "def isprime(a):\n",
        "  for i in range(2,a):\n",
        "    if(a%i==0):\n",
        "      return 0\n",
        "  return 1\n",
        "def prim():\n",
        "  a=2\n",
        "  while a<1000:\n",
        "      if(isprime(a)==1):\n",
        "        yield a\n",
        "      a+=1\n",
        "primo=prim()\n",
        "for _ in range (20):\n",
        "  print(next(primo))"
      ],
      "metadata": {
        "colab": {
          "base_uri": "https://localhost:8080/"
        },
        "id": "90uJufOL0PR1",
        "outputId": "478348d4-6103-41b7-f5e6-c1eadccf107a"
      },
      "execution_count": 23,
      "outputs": [
        {
          "output_type": "stream",
          "name": "stdout",
          "text": [
            "2\n",
            "3\n",
            "5\n",
            "7\n",
            "11\n",
            "13\n",
            "17\n",
            "19\n",
            "23\n",
            "29\n",
            "31\n",
            "37\n",
            "41\n",
            "43\n",
            "47\n",
            "53\n",
            "59\n",
            "61\n",
            "67\n",
            "71\n"
          ]
        }
      ]
    },
    {
      "cell_type": "code",
      "source": [
        "# Q.6)Write a python program to print the first 10 Fibonacci numbers using a while loop.\n",
        "i=0\n",
        "a,b=0,1\n",
        "while(i<10):\n",
        "  print(a);\n",
        "  a,b=b,a+b\n",
        "  i+=1\n"
      ],
      "metadata": {
        "colab": {
          "base_uri": "https://localhost:8080/"
        },
        "id": "x8whHh5R4fVe",
        "outputId": "f14b1975-7a95-4c94-9263-c6407035b43f"
      },
      "execution_count": 25,
      "outputs": [
        {
          "output_type": "stream",
          "name": "stdout",
          "text": [
            "0\n",
            "1\n",
            "1\n",
            "2\n",
            "3\n",
            "5\n",
            "8\n",
            "13\n",
            "21\n",
            "34\n"
          ]
        }
      ]
    },
    {
      "cell_type": "code",
      "source": [
        "# Q7. Write a List Comprehension to iterate through the given string: ‘pwskills’.\n",
        "# Expected output: ['p', 'w', 's', 'k', 'i', 'l', 'l', 's']\n",
        "#1st way\n",
        "string = 'pwskills'\n",
        "result = list(string)\n",
        "print(result)\n",
        "#2ndway\n",
        "string='pwskills'\n",
        "l1=list(map(lambda s: s,string))\n",
        "print(l1)"
      ],
      "metadata": {
        "colab": {
          "base_uri": "https://localhost:8080/"
        },
        "id": "HMGTU5En49lI",
        "outputId": "e5384b87-e65d-41a6-c6bc-139eaed57b40"
      },
      "execution_count": 32,
      "outputs": [
        {
          "output_type": "stream",
          "name": "stdout",
          "text": [
            "['p', 'w', 's', 'k', 'i', 'l', 'l', 's']\n",
            "['p', 'w', 's', 'k', 'i', 'l', 'l', 's']\n"
          ]
        }
      ]
    },
    {
      "cell_type": "code",
      "source": [
        "# Q8. Write a python program to check whether a given number is Palindrome or not using a while loop.\n",
        "a=int(input())\n",
        "b=a\n",
        "rev=0\n",
        "while(a!=0):\n",
        "  rev=rev*10+a%10\n",
        "  a=int(a/10)\n",
        "if rev==b:\n",
        "  print(b,\"is a pallindrome number\")\n",
        "else:\n",
        "  print(b,\"is not a pallindrome number\")\n",
        " \n"
      ],
      "metadata": {
        "colab": {
          "base_uri": "https://localhost:8080/"
        },
        "id": "vx4Gmz2L581s",
        "outputId": "f9013737-55e3-4c9f-aa8f-03baf3cd6329"
      },
      "execution_count": 37,
      "outputs": [
        {
          "output_type": "stream",
          "name": "stdout",
          "text": [
            "123\n",
            "123 is not a pallindrome number\n"
          ]
        }
      ]
    },
    {
      "cell_type": "code",
      "source": [
        "#Q9. Write a code to print odd numbers from 1 to 100 using list comprehension.\n",
        "l1=range(1,100)\n",
        "l2=list(filter(lambda x : x%2!=0,l1))\n",
        "print(l2[:])"
      ],
      "metadata": {
        "colab": {
          "base_uri": "https://localhost:8080/"
        },
        "id": "Qg4xrspZ8LS-",
        "outputId": "a77a6e4a-7f87-4893-c4d4-b6e9aceb2ade"
      },
      "execution_count": 42,
      "outputs": [
        {
          "output_type": "stream",
          "name": "stdout",
          "text": [
            "[1, 3, 5, 7, 9, 11, 13, 15, 17, 19, 21, 23, 25, 27, 29, 31, 33, 35, 37, 39, 41, 43, 45, 47, 49, 51, 53, 55, 57, 59, 61, 63, 65, 67, 69, 71, 73, 75, 77, 79, 81, 83, 85, 87, 89, 91, 93, 95, 97, 99]\n"
          ]
        }
      ]
    }
  ]
}