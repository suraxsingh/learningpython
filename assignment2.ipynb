{
  "nbformat": 4,
  "nbformat_minor": 0,
  "metadata": {
    "colab": {
      "provenance": []
    },
    "kernelspec": {
      "name": "python3",
      "display_name": "Python 3"
    },
    "language_info": {
      "name": "python"
    }
  },
  "cells": [
    {
      "cell_type": "code",
      "source": [
        "#q1 \n",
        "#In Python, you can add comments to your code to provide explanations or \n",
        "#notes that are not executed as part of the program\n",
        "#There are two type of comments in python single and multi line.\n",
        "#We can start a single-line comment using the hash character (#) and continue \n",
        "#until the end of the line. Everything after the hash symbol on that line will \n",
        "#be ignored by the Python interpreter.\n",
        "\"\"\"\n",
        "These comments allow you to write comments that span multiple lines. In Python,\n",
        "there is no specific syntax for multi-line comments, but you can use multi-line \n",
        "strings (strings enclosed in triple quotes) to achieve the same effect. \n",
        "The Python interpreter ignores these multi-line strings when \n",
        "they are not assigned to any variable.\n",
        "In these we use inverted comma thrice.\n",
        "\"\"\""
      ],
      "metadata": {
        "colab": {
          "base_uri": "https://localhost:8080/",
          "height": 70
        },
        "id": "C8b-5YBx-59Z",
        "outputId": "55a9c230-19ca-463f-bde0-ab6f1bcc60cf"
      },
      "execution_count": 3,
      "outputs": [
        {
          "output_type": "execute_result",
          "data": {
            "text/plain": [
              "'\\nThese comments allow you to write comments that span multiple lines. In Python,\\nthere is no specific syntax for multi-line comments, but you can use multi-line \\nstrings (strings enclosed in triple quotes) to achieve the same effect. \\nThe Python interpreter ignores these multi-line strings when \\nthey are not assigned to any variable.\\nIn these we use inverted comma thrice.\\n'"
            ],
            "application/vnd.google.colaboratory.intrinsic+json": {
              "type": "string"
            }
          },
          "metadata": {},
          "execution_count": 3
        }
      ]
    },
    {
      "cell_type": "code",
      "source": [
        "#q2\n",
        "# In Python, variables are used to store and manipulate data. A variable is \n",
        "# essentially a name or identifier that represents a value stored \n",
        "# in the computer's memory.You can assign a value to a variable using the \n",
        "# assignment operator (=).\n",
        "x=10\n",
        "# we declared a variable named x and assigned it the value 10. \n",
        "# From this point on, you can use the variable x to refer to \n",
        "# the value 10 in your code.\n",
        "x"
      ],
      "metadata": {
        "colab": {
          "base_uri": "https://localhost:8080/"
        },
        "id": "GmhI9yhKATL8",
        "outputId": "4cd973b5-d0d0-482a-e579-05695dc93454"
      },
      "execution_count": 5,
      "outputs": [
        {
          "output_type": "execute_result",
          "data": {
            "text/plain": [
              "10"
            ]
          },
          "metadata": {},
          "execution_count": 5
        }
      ]
    },
    {
      "cell_type": "code",
      "source": [
        "#q3 we convert data types in python by type casting\n",
        "#conversion of string to int\n",
        "num_string = \"10\"\n",
        "num_int = int(num_string)\n",
        "print(num_int)  \n",
        "#conversion of float to int\n",
        "num_float = 3.14\n",
        "num_int = int(num_float)\n",
        "print(num_int)  \n",
        "#conversion of int to string\n",
        "num_int = 42\n",
        "num_string = str(num_int)\n",
        "print(type(num_string))  \n",
        "#conversion of float to string\n",
        "num_float = 3.14\n",
        "num_string = str(num_float)\n",
        "print(type(num_string))  "
      ],
      "metadata": {
        "colab": {
          "base_uri": "https://localhost:8080/"
        },
        "id": "nNLpO1BnBEX4",
        "outputId": "ce2924ea-b72f-4b25-eacb-b4fdd5b73ad5"
      },
      "execution_count": 10,
      "outputs": [
        {
          "output_type": "stream",
          "name": "stdout",
          "text": [
            "10\n",
            "3\n",
            "<class 'str'>\n",
            "<class 'str'>\n"
          ]
        }
      ]
    },
    {
      "cell_type": "code",
      "source": [],
      "metadata": {
        "id": "0WLX4yRbCF4z"
      },
      "execution_count": null,
      "outputs": []
    },
    {
      "cell_type": "markdown",
      "source": [
        "Q4\n",
        "To write and execute a Python script from the command line, you can follow these steps:\n",
        "\n",
        "1. Open a text editor and create a new file. This is where you'll write your Python code. Save the file with a `.py` extension, such as `script.py`. Make sure to save it in a location you can easily navigate to from the command line.\n",
        "\n",
        "2. Open a command prompt or terminal window. The steps to open the command prompt or terminal vary depending on your operating system:\n",
        "\n",
        "   - *Windows*: Press `Win + R`, type `cmd`, and press Enter.\n",
        "   - *Mac*: Press `Command + Space`, type `terminal`, and press Enter.\n",
        "   - *Linux*: Press `Ctrl + Alt + T`.\n",
        "\n",
        "3. Navigate to the directory where you saved your Python script. Use the `cd` command followed by the directory path to navigate to the desired location. For example:\n",
        "\n",
        "   \n",
        "   cd C:\\path\\to\\script\\directory\n",
        "   \n",
        "\n",
        "4. Once you're in the correct directory, you can execute the Python script using the `python` command followed by the name of your script file. For example:\n",
        "\n",
        "   \n",
        "   python script.py\n",
        "   \n",
        "\n",
        "   If you have multiple versions of Python installed, you might need to specify the version you want to use. For example, `python3 script.py`.\n",
        "\n",
        "5. Press Enter to execute the command. The Python interpreter will read and execute the code in your script file.\n",
        "\n",
        "Note: Ensure that you have Python installed on your system and that the Python executable is added to your system's PATH environment variable. This allows the `python` command to be recognized and executed from any location in the command prompt or terminal."
      ],
      "metadata": {
        "id": "dZt1aHtDDOk9"
      }
    },
    {
      "cell_type": "code",
      "source": [
        "#q5\n",
        "my_list = [1, 2, 3, 4, 5]\n",
        "print(my_list[1:3])"
      ],
      "metadata": {
        "colab": {
          "base_uri": "https://localhost:8080/"
        },
        "id": "-jLNyWEZDnee",
        "outputId": "0786276d-ff61-466b-d685-a5e166ad6d54"
      },
      "execution_count": 13,
      "outputs": [
        {
          "output_type": "stream",
          "name": "stdout",
          "text": [
            "[2, 3]\n"
          ]
        }
      ]
    },
    {
      "cell_type": "code",
      "source": [
        "# Q6) \n",
        "# In mathematics, a complex number is a number of the form \"a + bi\", where \"a\" \n",
        "# and \"b\" are real numbers, and \"i\" is the imaginary unit. The imaginary unit \"i\" \n",
        "# is defined as the square root of -1. The real part \"a\" represents the real \n",
        "# number component, and the imaginary part \"b\" represents the imaginary\n",
        "# number component.\n",
        "\n",
        "# Complex numbers are used to represent quantities that involve both real \n",
        "# and imaginary components, such as in electrical engineering, signal processing,\n",
        "# and mathematics itself.\n",
        "\n",
        "# In Python, complex numbers can be represented using the built-in \n",
        "# complex data type. The complex type takes two arguments, representing \n",
        "# the real and imaginary parts of the complex number, respectively. \n",
        "# The imaginary part is specified by appending \n",
        "# the letter \"j\" to the imaginary component.\n",
        "#for ex:\n",
        "comp1= 2+ 3j;\n",
        "print(type(comp1))\n",
        "print(comp1.imag)\n",
        "print(comp1.real)"
      ],
      "metadata": {
        "colab": {
          "base_uri": "https://localhost:8080/"
        },
        "id": "b_BXIiDbEcNb",
        "outputId": "8f6a878b-79c0-4e9e-f9c0-12a045286e29"
      },
      "execution_count": 20,
      "outputs": [
        {
          "output_type": "stream",
          "name": "stdout",
          "text": [
            "<class 'complex'>\n",
            "3.0\n",
            "2.0\n"
          ]
        }
      ]
    },
    {
      "cell_type": "code",
      "source": [
        "#Q7\n",
        "age=25\n",
        "age"
      ],
      "metadata": {
        "colab": {
          "base_uri": "https://localhost:8080/"
        },
        "id": "lpBsAkIZF81r",
        "outputId": "6789b6ad-adf8-4df2-c4f0-106ad3f87763"
      },
      "execution_count": 22,
      "outputs": [
        {
          "output_type": "execute_result",
          "data": {
            "text/plain": [
              "25"
            ]
          },
          "metadata": {},
          "execution_count": 22
        }
      ]
    },
    {
      "cell_type": "code",
      "source": [
        "#Q8\n",
        "price=9.99\n",
        "#it is of float type\n",
        "type(price)"
      ],
      "metadata": {
        "colab": {
          "base_uri": "https://localhost:8080/"
        },
        "id": "qwpZrvBLGd_6",
        "outputId": "fe11821f-fba6-4808-fb19-3873f7d616f5"
      },
      "execution_count": 24,
      "outputs": [
        {
          "output_type": "execute_result",
          "data": {
            "text/plain": [
              "float"
            ]
          },
          "metadata": {},
          "execution_count": 24
        }
      ]
    },
    {
      "cell_type": "code",
      "source": [
        "#q9\n",
        "full_name='Suraj Singh'\n",
        "print(full_name)"
      ],
      "metadata": {
        "colab": {
          "base_uri": "https://localhost:8080/"
        },
        "id": "TtlL2Md5HO3N",
        "outputId": "5dbfdaa2-8aa4-4f6c-e30a-76e61b307df2"
      },
      "execution_count": 26,
      "outputs": [
        {
          "output_type": "stream",
          "name": "stdout",
          "text": [
            "Suraj Singh\n"
          ]
        }
      ]
    },
    {
      "cell_type": "code",
      "source": [
        "#q10\n",
        "string = \"Hello, World!\"\n",
        "substring = string[7:12]\n",
        "print(substring)"
      ],
      "metadata": {
        "colab": {
          "base_uri": "https://localhost:8080/"
        },
        "id": "x-0CIP_KHa7I",
        "outputId": "09884117-42aa-43c0-db99-0877cf775f70"
      },
      "execution_count": 28,
      "outputs": [
        {
          "output_type": "stream",
          "name": "stdout",
          "text": [
            "World\n"
          ]
        }
      ]
    },
    {
      "cell_type": "code",
      "source": [
        "#q11\n",
        "print(\"Are you a student Y/N\")\n",
        "check=input()\n",
        "if check=='y' or check=='Y' :\n",
        "  is_student=True\n",
        "else :\n",
        "  is_student=False\n",
        "is_student"
      ],
      "metadata": {
        "colab": {
          "base_uri": "https://localhost:8080/"
        },
        "id": "t4-ZSl6AHpAi",
        "outputId": "d11cf048-bf75-454a-86d9-2c4f23a24da6"
      },
      "execution_count": 32,
      "outputs": [
        {
          "name": "stdout",
          "output_type": "stream",
          "text": [
            "Are you a student Y/N\n",
            "n\n"
          ]
        },
        {
          "output_type": "execute_result",
          "data": {
            "text/plain": [
              "False"
            ]
          },
          "metadata": {},
          "execution_count": 32
        }
      ]
    }
  ]
}