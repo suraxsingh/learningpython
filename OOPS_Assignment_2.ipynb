{
  "nbformat": 4,
  "nbformat_minor": 0,
  "metadata": {
    "colab": {
      "provenance": []
    },
    "kernelspec": {
      "name": "python3",
      "display_name": "Python 3"
    },
    "language_info": {
      "name": "python"
    }
  },
  "cells": [
    {
      "cell_type": "code",
      "execution_count": 2,
      "metadata": {
        "colab": {
          "base_uri": "https://localhost:8080/"
        },
        "id": "p6g-5s5TyHSV",
        "outputId": "398a7e62-a65a-48e6-9504-92aff941502b"
      },
      "outputs": [
        {
          "output_type": "stream",
          "name": "stdout",
          "text": [
            "Area of circle is: 78.5\n"
          ]
        }
      ],
      "source": [
        "# Q1. What is Abstraction in OOps? Explain with an example.\n",
        "# Abstraction in object-oriented programming (OOP) is a concept that focuses on\n",
        "# providing only essential information and hiding unnecessary details from the user.\n",
        "# It allows you to represent complex systems or entities in a simplified manner by\n",
        "# breaking them down into smaller, manageable modules.\n",
        "from abc import ABC, abstractmethod\n",
        "class Shape(ABC):\n",
        "    @abstractmethod\n",
        "    def calculate_area(self):\n",
        "        pass\n",
        "class Circle(Shape):\n",
        "    def __init__(self, radius):\n",
        "        self.radius = radius\n",
        "\n",
        "    def calculate_area(self):\n",
        "        return 3.14 * self.radius ** 2\n",
        "circle = Circle(5)\n",
        "print(\"Area of circle is:\",circle.calculate_area())\n"
      ]
    },
    {
      "cell_type": "code",
      "source": [
        "#Q2. Differentiate between Abstraction and Encapsulation. Explain with an example.\n",
        "# Abstraction focuses on representing complex systems or entities in a simplified\n",
        "# manner by breaking them down into smaller, manageable modules. It involves hiding\n",
        "# unnecessary details and exposing only the essential features to the user.\n",
        "# Whereas,Encapsulation is the process of bundling data (attributes) and methods\n",
        "# together within a class. It involves hiding the internal implementation details\n",
        "# of an object and providing access to the data only through defined methods.\n",
        "#ex for abstraction:\n",
        "from abc import ABC, abstractmethod\n",
        "class Shape(ABC):\n",
        "    @abstractmethod\n",
        "    def calculate_area(self):\n",
        "        pass\n",
        "class Circle(Shape):\n",
        "    def __init__(self, radius):\n",
        "        self.radius = radius\n",
        "\n",
        "    def calculate_area(self):\n",
        "        return 3.14 * self.radius ** 2\n",
        "circle = Circle(5)\n",
        "print(\"Area of circle is:\",circle.calculate_area())\n",
        "#ex for encapsulation:\n",
        "class Person:\n",
        "    def __init__(self, name, age):\n",
        "        self.name = name\n",
        "        self.__age = age\n",
        "\n",
        "person = Person(\"John\", 25)\n",
        "print(person.name)\n",
        "# print(person.__age)-->here age is made private that means it is not directly accesible by classes object\n",
        "#however we can acces it by\n",
        "person._Person__age\n"
      ],
      "metadata": {
        "colab": {
          "base_uri": "https://localhost:8080/"
        },
        "id": "ZJUfWGgR0SoP",
        "outputId": "4a2ecaaa-5bc4-4761-f246-3be307e7569f"
      },
      "execution_count": 3,
      "outputs": [
        {
          "output_type": "stream",
          "name": "stdout",
          "text": [
            "Area of circle is: 78.5\n",
            "John\n"
          ]
        },
        {
          "output_type": "execute_result",
          "data": {
            "text/plain": [
              "25"
            ]
          },
          "metadata": {},
          "execution_count": 3
        }
      ]
    },
    {
      "cell_type": "markdown",
      "source": [
        "#Q3. What is abc module in python? Why is it used?\n",
        "In Python, the abc module stands for \"Abstract Base Classes.\" It is a built-in module that provides mechanisms for defining abstract base classes in Python. Abstract base classes are classes that are meant to be inherited from but not instantiated directly. They serve as blueprints for other classes and define a common interface for their subclasses.\n",
        "\n",
        "The abc module is used to create abstract base classes and enforce the implementation of certain methods in derived classes. It provides the ABC class and the abstractmethod decorator, which are used in defining abstract methods and abstract base classes."
      ],
      "metadata": {
        "id": "jbwGaJyM2Lbq"
      }
    },
    {
      "cell_type": "markdown",
      "source": [
        "#Q4. How can we achieve data abstraction?\n",
        "\n",
        "Data abstraction in object-oriented programming (OOP) is achieved through encapsulation. Encapsulation is the process of bundling data (attributes) and methods together within a class, where the internal representation and implementation details are hidden from the outside world. It allows the class to control access to its data and provide methods to interact with and modify the data.\n",
        "\n",
        "Some ways to achieve data abstraction through encapsulation:Access Modifiers,Getter and Setter Methods"
      ],
      "metadata": {
        "id": "RrheXAwN3Sl5"
      }
    },
    {
      "cell_type": "code",
      "source": [
        "# Q5. Can we create an instance of an abstract class? Explain your answer.\n",
        "# No, we cannot create an instance of an abstract class in Python. An abstract\n",
        "# class is a class that contains one or more abstract methods, which are methods\n",
        "# without any implementation. The purpose of an abstract class is to serve as a\n",
        "# blueprint or template for its derived classes, providing a common interface\n",
        "# and defining the structure or behavior that the derived classes should adhere to.\n",
        "from abc import ABC, abstractmethod\n",
        "\n",
        "class AbstractClass(ABC):\n",
        "    @abstractmethod\n",
        "    def abstract_method(self):\n",
        "        pass\n",
        "\n",
        "# Trying to create an instance of an abstract class raises an error\n",
        "# obj = AbstractClass()  # Raises TypeError: Can't instantiate abstract class AbstractClass with abstract methods abstract_method"
      ],
      "metadata": {
        "id": "96ts4vKp39QE"
      },
      "execution_count": 5,
      "outputs": []
    },
    {
      "cell_type": "code",
      "source": [],
      "metadata": {
        "id": "-fJRKV_s4qpO"
      },
      "execution_count": null,
      "outputs": []
    }
  ]
}