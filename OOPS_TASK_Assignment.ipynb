{
  "nbformat": 4,
  "nbformat_minor": 0,
  "metadata": {
    "colab": {
      "provenance": []
    },
    "kernelspec": {
      "name": "python3",
      "display_name": "Python 3"
    },
    "language_info": {
      "name": "python"
    }
  },
  "cells": [
    {
      "cell_type": "code",
      "execution_count": 5,
      "metadata": {
        "colab": {
          "base_uri": "https://localhost:8080/"
        },
        "id": "2hd8DDB-qdvb",
        "outputId": "528d4e1f-4f44-4b64-c71f-20b8eacead43"
      },
      "outputs": [
        {
          "output_type": "stream",
          "name": "stdout",
          "text": [
            "G-Wagon 13.5 210\n"
          ]
        }
      ],
      "source": [
        "# Q1, Create a vehicle class with an init method having instance variables as name_of_vehicle, max_speed\n",
        "# and average_of_vehicle.\n",
        "class vehicle:\n",
        "  def __init__(self,name_of_vehicle,max_speed,average_of_vehicle):\n",
        "    self.name_of_vehicle=name_of_vehicle\n",
        "    self.max_speed=max_speed\n",
        "    self.average_of_vehicle=average_of_vehicle\n",
        "obj=vehicle(\"G-Wagon\",210,13.5)\n",
        "print(obj.name_of_vehicle,obj.average_of_vehicle,obj.max_speed)"
      ]
    },
    {
      "cell_type": "code",
      "source": [
        "# Q2. Create a child class car from the vehicle class created in Que 1, which will inherit the vehicle class.\n",
        "# Create a method named seating_capacity which takes capacity as an argument and returns the name of\n",
        "# the vehicle and its seating capacity.\n",
        "class car(vehicle):\n",
        "\n",
        "  def __init__(self,name_of_vehicle,max_speed,average_of_vehicle):\n",
        "    super(car,self).__init__(name_of_vehicle,max_speed,average_of_vehicle)\n",
        "  def seating_capacity(self,capacity):\n",
        "    self.cap=capacity\n",
        "    print(self.name_of_vehicle,self.cap)\n",
        "obj1=car(\"G-Wagon\",210,13.5)\n",
        "obj1.seating_capacity(4)"
      ],
      "metadata": {
        "colab": {
          "base_uri": "https://localhost:8080/"
        },
        "id": "sgrKnbAAtiTP",
        "outputId": "7a916469-a40e-4ee7-9552-bb4530d2d01f"
      },
      "execution_count": 8,
      "outputs": [
        {
          "output_type": "stream",
          "name": "stdout",
          "text": [
            "G-Wagon 4\n"
          ]
        }
      ]
    },
    {
      "cell_type": "code",
      "source": [
        "# Q3. What is multiple inheritance? Write a python code to demonstrate multiple inheritance.\n",
        "# Multiple inheritance is a feature in object-oriented programming languages\n",
        "# where a class can inherit attributes and methods from multiple parent classes.\n",
        "#for ex\n",
        "class A:\n",
        "  def freemetha(self):\n",
        "    print(\"A's meth\")\n",
        "class B:\n",
        "  def freemethb(self):\n",
        "    print(\"B's meth\")\n",
        "class C(A,B):\n",
        "  pass\n",
        "obj=C()\n",
        "obj.freemetha()\n",
        "obj.freemethb()\n",
        "\n",
        "\n"
      ],
      "metadata": {
        "colab": {
          "base_uri": "https://localhost:8080/"
        },
        "id": "uF3kFaNGxBT1",
        "outputId": "26c6ff56-0188-4ad7-a737-08fc5e5c88d3"
      },
      "execution_count": 10,
      "outputs": [
        {
          "output_type": "stream",
          "name": "stdout",
          "text": [
            "A's meth\n",
            "B's meth\n"
          ]
        }
      ]
    },
    {
      "cell_type": "code",
      "source": [
        "#Q4. What are getter and setter in python? Create a class and create a getter and a setter method in this class.\n",
        "# Getters, also known as accessor methods, are used to retrieve the value of an attribute.\n",
        "# They typically have the prefix \"get_\" followed by the attribute name and return the value of that attribute.\n",
        "# Setters, also known as mutator methods, are used to modify the value of an attribute.\n",
        "# They typically have the prefix \"set_\" followed by the attribute name and\n",
        "# take a parameter representing the new value for that attribute.\n",
        "class Person:\n",
        "    def __init__(self):\n",
        "        self._name = None\n",
        "        self._age = 0\n",
        "\n",
        "    def get_name(self):\n",
        "        return self._name\n",
        "\n",
        "    def set_name(self, name):\n",
        "        self._name = name\n",
        "\n",
        "    def get_age(self):\n",
        "        return self._age\n",
        "\n",
        "    def set_age(self, age):\n",
        "        if age >= 0:\n",
        "            self._age = age\n",
        "        else:\n",
        "            print(\"Age cannot be negative.\")\n",
        "obj=Person()\n",
        "obj.set_name(\"suraj\")\n",
        "obj.set_age(20)\n",
        "print(obj.get_name())\n",
        "print(obj.get_age())"
      ],
      "metadata": {
        "colab": {
          "base_uri": "https://localhost:8080/"
        },
        "id": "IqhjP46lyvYj",
        "outputId": "65770079-0a36-4223-9e24-e9f8fc71f5da"
      },
      "execution_count": 12,
      "outputs": [
        {
          "output_type": "stream",
          "name": "stdout",
          "text": [
            "suraj\n",
            "20\n"
          ]
        }
      ]
    },
    {
      "cell_type": "code",
      "source": [
        "#Q5.What is method overriding in python? Write a python code to demonstrate method overriding.\n",
        "# Method overriding is a concept in object-oriented programming where a subclass provides\n",
        "# its own implementation of a method that is already defined in its parent class.\n",
        "# When a method is overridden, the subclass can redefine the behavior of the\n",
        "# method to suit its specific requirements.\n",
        "class Shape:\n",
        "    def calculate_area(self):\n",
        "        print(\"Calculating area of the shape.\")\n",
        "\n",
        "class Rectangle(Shape):\n",
        "    def calculate_area(self):\n",
        "        length = 10\n",
        "        width = 5\n",
        "        area = length * width\n",
        "        print(\"Calculating area of the rectangle:\", area)\n",
        "shap=Shape()\n",
        "shap.calculate_area()\n",
        "rect = Rectangle()\n",
        "rect.calculate_area()"
      ],
      "metadata": {
        "colab": {
          "base_uri": "https://localhost:8080/"
        },
        "id": "vmSspVD20A5w",
        "outputId": "7327dc84-d53d-43bd-9c93-9f03fd683e07"
      },
      "execution_count": 14,
      "outputs": [
        {
          "output_type": "stream",
          "name": "stdout",
          "text": [
            "Calculating area of the shape.\n",
            "Calculating area of the rectangle: 50\n"
          ]
        }
      ]
    }
  ]
}