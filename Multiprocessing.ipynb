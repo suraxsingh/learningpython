{
  "nbformat": 4,
  "nbformat_minor": 0,
  "metadata": {
    "colab": {
      "provenance": []
    },
    "kernelspec": {
      "name": "python3",
      "display_name": "Python 3"
    },
    "language_info": {
      "name": "python"
    }
  },
  "cells": [
    {
      "cell_type": "markdown",
      "source": [
        "#Q1. What is multiprocessing in python? Why is it useful?\n",
        "Multiprocessing in Python refers to the ability of the Python programming language to execute multiple processes or tasks concurrently. It allows you to run multiple instances of a program, called processes, simultaneously on a multi-core processor or across multiple processors.\n",
        "\n",
        "It improves performance by executing tasks in parallel, utilizes system resources effectively, improves responsiveness when dealing with I/O operations, provides fault tolerance, and exploits parallelism for tasks that can be divided into smaller parts."
      ],
      "metadata": {
        "id": "tjR7By1ZAsRh"
      }
    },
    {
      "cell_type": "markdown",
      "source": [
        "#Q2. What are the differences between multiprocessing and multithreading?\n",
        "Multiprocessing allows running multiple processes simultaneously, each with its own memory space. It achieves true parallelism by utilizing separate processors or CPU cores, which can lead to improved performance. However, it comes with higher memory overhead since each process has its own memory resources. To communicate and synchronize between processes, explicit mechanisms like pipes, queues, or shared memory need to be used.\n",
        "\n",
        "On the other hand, multithreading involves running multiple threads within a single process, sharing the same memory space. Threads are lighter weight than processes and can be more efficient in terms of memory usage.This limitation can impact performance in certain scenarios. Communication and synchronization between threads can be simpler as they can directly access shared variables, but care must be taken to avoid synchronization issues like data races or deadlocks."
      ],
      "metadata": {
        "id": "cFK-rj_JCHZz"
      }
    },
    {
      "cell_type": "code",
      "source": [
        "#Q3. Write a python code to create a process using the multiprocessing module.\n",
        "import multiprocessing\n",
        "\n",
        "def my_process():\n",
        "    print(\"This is a child process\")\n",
        "\n",
        "if __name__ == \"__main__\":\n",
        "    p = multiprocessing.Process(target=my_process)\n",
        "    print(\"This is a main process\")\n",
        "    p.start()\n",
        "    p.join()\n",
        "\n"
      ],
      "metadata": {
        "colab": {
          "base_uri": "https://localhost:8080/"
        },
        "id": "rFK1Gt92DC2i",
        "outputId": "3fe064e4-b303-4b34-8245-bd2be7402b62"
      },
      "execution_count": 2,
      "outputs": [
        {
          "output_type": "stream",
          "name": "stdout",
          "text": [
            "This is a main process\n",
            "This is a child process\n"
          ]
        }
      ]
    },
    {
      "cell_type": "markdown",
      "source": [
        "#Q4. What is a multiprocessing pool in python? Why is it used?\n",
        "\n",
        "A multiprocessing pool in Python is a way to manage a group of processes. It allows you to execute tasks in parallel, make efficient use of system resources, and provides a simpler programming interface.\n",
        "\n",
        "It's used for parallel execution, resource utilization, load balancing, and simplifying concurrent task management."
      ],
      "metadata": {
        "id": "Z930T9FhDh-e"
      }
    },
    {
      "cell_type": "code",
      "source": [
        "#Q5. How can we create a pool of worker processes in python using the multiprocessing module?\n",
        "import multiprocessing\n",
        "\n",
        "def task_function(x):\n",
        "    return x * x\n",
        "\n",
        "if __name__ == \"__main__\":\n",
        "    pool = multiprocessing.Pool(processes=5)\n",
        "    tasks = [1, 2, 3, 4, 5]\n",
        "    results = pool.map(task_function, tasks)\n",
        "    print(results)\n",
        "    pool.close()\n",
        "    pool.join()\n"
      ],
      "metadata": {
        "colab": {
          "base_uri": "https://localhost:8080/"
        },
        "id": "zDeNRcIhD7Gv",
        "outputId": "39b7be49-eb0c-4b03-f7bb-66643922ac59"
      },
      "execution_count": 4,
      "outputs": [
        {
          "output_type": "stream",
          "name": "stdout",
          "text": [
            "[1, 4, 9, 16, 25]\n"
          ]
        }
      ]
    },
    {
      "cell_type": "code",
      "source": [
        "#Q6. Write a python program to create 4 processes, each process should print a different number using the\n",
        "# multiprocessing module in python.\n",
        "import multiprocessing\n",
        "\n",
        "def prinnt(num):\n",
        "  print(num)\n",
        "\n",
        "if __name__==\"__main__\":\n",
        "  p1=multiprocessing.Process(target=prinnt,args=[1])\n",
        "  p2=multiprocessing.Process(target=prinnt,args=[2])\n",
        "  p3=multiprocessing.Process(target=prinnt,args=[3])\n",
        "  p4=multiprocessing.Process(target=prinnt,args=[4])\n",
        "  p1.start()\n",
        "  p2.start()\n",
        "  p3.start()\n",
        "  p4.start()\n",
        "  p1.join()\n",
        "  p2.join()\n",
        "  p3.join()\n",
        "  p4.join()\n"
      ],
      "metadata": {
        "colab": {
          "base_uri": "https://localhost:8080/"
        },
        "id": "ORf0mOM9FWxU",
        "outputId": "feebf258-3e96-4a81-e8ee-2c914c16f6c3"
      },
      "execution_count": 9,
      "outputs": [
        {
          "output_type": "stream",
          "name": "stdout",
          "text": [
            "13\n",
            "2\n",
            "\n",
            "4\n"
          ]
        }
      ]
    }
  ]
}