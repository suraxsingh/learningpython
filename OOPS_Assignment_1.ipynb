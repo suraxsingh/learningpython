{
  "nbformat": 4,
  "nbformat_minor": 0,
  "metadata": {
    "colab": {
      "provenance": []
    },
    "kernelspec": {
      "name": "python3",
      "display_name": "Python 3"
    },
    "language_info": {
      "name": "python"
    }
  },
  "cells": [
    {
      "cell_type": "code",
      "execution_count": 2,
      "metadata": {
        "colab": {
          "base_uri": "https://localhost:8080/"
        },
        "id": "2Hn3CoDroyKq",
        "outputId": "64504645-62e4-43af-c388-f2e3a3250a3d"
      },
      "outputs": [
        {
          "output_type": "stream",
          "name": "stdout",
          "text": [
            "Mercedes G-Wagon Black 300\n"
          ]
        }
      ],
      "source": [
        "#Q1. Explain Class and Object with respect to Object-Oriented Programming. Give a suitable example.\n",
        "# In object-oriented programming (OOP), a class is a blueprint or template for\n",
        "# creating objects, while an object is an instance of a class.A class defines\n",
        "# the properties (attributes) and behaviors (methods) that objects of that class will possess.\n",
        "class Car:#class declaration\n",
        "    def __init__(self, brand, model, color,speed):\n",
        "        self.brand = brand\n",
        "        self.model = model\n",
        "        self.color = color\n",
        "        self.speed = speed\n",
        "    def displayy(self):\n",
        "      print(self.brand,self.model,self.color,self.speed)\n",
        "obj=Car(\"Mercedes\",\"G-Wagon\",\"Black\",300)#object creation of class Car\n",
        "obj.displayy()"
      ]
    },
    {
      "cell_type": "markdown",
      "source": [
        "#Q2. Name the four pillars of OOPs.\n",
        "\n",
        "The four pillars of object-oriented programming (OOP) are:\n",
        "\n",
        "1.Encapsulation: Encapsulation is the process of bundling data (attributes) and methods (behaviors) together within a class.\n",
        "2.Inheritance: Inheritance allows classes to inherit properties and behaviors from other classes, forming a hierarchy of classes.\n",
        "\n",
        "3.Polymorphism: Polymorphism means the ability of objects to exhibit different forms or behaviors based on the context.\n",
        "\n",
        "4.Abstraction: Abstraction refers to the process of simplifying complex systems by breaking them down into smaller, manageable modules.\n",
        "\n"
      ],
      "metadata": {
        "id": "KJ56DMUprTEQ"
      }
    },
    {
      "cell_type": "code",
      "source": [
        "#Q3. Explain why the __init__() function is used. Give a suitable example.\n",
        "#The primary purpose of the __init__() function is to set the initial state of\n",
        "#the object by assigning values to its attributes. It allows you to specify the\n",
        "#necessary parameters that should be passed when creating an object\n",
        "#and initialize the object's attributes based on those parameters.\n",
        "class x:\n",
        "  def __init__(self,name,number):\n",
        "    self.name=name\n",
        "    self.number=number\n",
        "obj1=x(\"Suraj\",101010)\n",
        "print(obj1.name,obj1.number)"
      ],
      "metadata": {
        "colab": {
          "base_uri": "https://localhost:8080/"
        },
        "id": "IaHv9baPr2tv",
        "outputId": "cf795453-002a-44ae-df1a-a2bae3bbcc9c"
      },
      "execution_count": 3,
      "outputs": [
        {
          "output_type": "stream",
          "name": "stdout",
          "text": [
            "Suraj 101010\n"
          ]
        }
      ]
    },
    {
      "cell_type": "markdown",
      "source": [
        "#Q4.Why self is used in OOPs?\n",
        "In object-oriented programming (OOP), the self keyword is used as a\n",
        "convention to refer to the instance (object) of a class within the class itself.\n",
        "It is a way to access the attributes and methods of an object from within the class.The use of self is necessary to differentiate between the attributes and methods of the current object and any other variables or parameters that may have the same name. By convention, self is the recommended name, but you can technically use any name as long as it follows the same purpose and is consistent throughout the class.\n",
        "Here are a few reasons why self is used in OOP:\n",
        "Object Context,Attribute Access,Method Invocation"
      ],
      "metadata": {
        "id": "Bc7ckS0BtsCF"
      }
    },
    {
      "cell_type": "code",
      "source": [
        "#Q5. What is inheritance? Give an example for each type of inheritance.\n",
        "# Inheritance is a fundamental concept in object-oriented programming (OOP) that\n",
        "# allows a class to inherit properties and behaviors from another class.\n",
        "# The class that is being inherited from is called the base class, parent class,\n",
        "# or superclass. The class that inherits from the base class is called the derived class, child class, or subclass.\n",
        "#There are several types of inheritance:\n",
        "#!.Single Inheritance:\n",
        "class Vehicle:\n",
        "    def __init__(self, brand):\n",
        "        self.brand = brand\n",
        "\n",
        "    def start_engine(self):\n",
        "        print(\"Engine started.\")\n",
        "\n",
        "class Car(Vehicle):\n",
        "    def drive(self):\n",
        "        print(\"Car is being driven.\")\n",
        "\n",
        "my_car = Car(\"Toyota\")\n",
        "print(my_car.brand)\n",
        "my_car.start_engine()\n",
        "my_car.drive()\n",
        "#2.Multiple Inheritance:\n",
        "class A:\n",
        "    def funcA(self):\n",
        "        print(\"A's meth\")\n",
        "\n",
        "class B:\n",
        "    def funcB(self):\n",
        "        print(\"B's meth\")\n",
        "\n",
        "class C(A,B):\n",
        "  pass\n",
        "\n",
        "obj2=C()\n",
        "obj2.funcA()\n",
        "obj2.funcB()\n",
        "#3.Multi-Level Inheritance\n",
        "class D:\n",
        "    def funcD(self):\n",
        "        print(\"D's meth\")\n",
        "\n",
        "class E(D):\n",
        "    def funcE(self):\n",
        "        print(\"E's meth\")\n",
        "\n",
        "class F(E):\n",
        "  pass\n",
        "obj3=F()\n",
        "obj3.funcD()\n",
        "obj3.funcE()\n"
      ],
      "metadata": {
        "colab": {
          "base_uri": "https://localhost:8080/"
        },
        "id": "5E1H7Fj0uBzH",
        "outputId": "e90c3bda-d18c-477f-dc89-3bc27fd894a9"
      },
      "execution_count": 6,
      "outputs": [
        {
          "output_type": "stream",
          "name": "stdout",
          "text": [
            "Toyota\n",
            "Engine started.\n",
            "Car is being driven.\n",
            "A's meth\n",
            "B's meth\n",
            "D's meth\n",
            "E's meth\n"
          ]
        }
      ]
    }
  ]
}