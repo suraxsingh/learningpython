{
  "nbformat": 4,
  "nbformat_minor": 0,
  "metadata": {
    "colab": {
      "provenance": []
    },
    "kernelspec": {
      "name": "python3",
      "display_name": "Python 3"
    },
    "language_info": {
      "name": "python"
    }
  },
  "cells": [
    {
      "cell_type": "markdown",
      "source": [
        "#Q.1 What is multithreading in Python? Why is it used? Name the module used handle threads in python\n",
        "\n",
        "Multithreading in Python refers to the concurrent execution of multiple threads within a single program.\n",
        "\n",
        "Multithreading is used in Python to achieve parallelism or concurrent execution, allowing different parts of a program to run simultaneously. This can be beneficial in scenarios where a program needs to perform multiple tasks concurrently, or when tasks involve waiting for I/O operations (such as reading from or writing to files, network communication, or database queries) where the CPU would otherwise be idle.\n",
        "\n",
        "In Python, the threading module is commonly used to handle threads.\n"
      ],
      "metadata": {
        "id": "vsfN_3QtbELv"
      }
    },
    {
      "cell_type": "markdown",
      "source": [
        "#Q.2 Why is threading module used?\n",
        "The `threading` module in Python is used to create and control threads, allowing you to perform multiple tasks simultaneously. It helps achieve concurrency and parallelism, making your program more responsive and efficient. It also enables asynchronous operations and provides synchronization mechanisms for coordinating thread execution and managing shared resources. In short, the `threading` module is used to make your program faster, more efficient, and able to perform multiple tasks at the same time.\n",
        "\n",
        "#Write the use of the following functions:\n",
        "\n",
        "1. activeCount() - provides the count of active threads.\n",
        "\n",
        "2. currentThread() - allows accessing the Thread object of the current thread.\n",
        "\n",
        "3. enumerate() - retrieves a list of all active Thread objects in the program.\n",
        "\n"
      ],
      "metadata": {
        "id": "kWyascosb1iY"
      }
    },
    {
      "cell_type": "markdown",
      "source": [
        "#Q3. Explain the following functions:\n",
        "\n",
        "1. **run()**: Method representing the thread's execution logic.\n",
        "2. **start()**: Begins the execution of a thread.\n",
        "3. **join()**: Waits for a thread to finish its execution.\n",
        "4. **isAlive()**: Checks if a thread is currently running."
      ],
      "metadata": {
        "id": "aq_mGKvwdK53"
      }
    },
    {
      "cell_type": "code",
      "source": [
        "#Q.4 Write a python program to create two threads. Thread one must print the list of squares and thread\n",
        "#two must print the list of cubes\n",
        "\n",
        "def sqr(nums):\n",
        "  for i in nums:\n",
        "    print(i*i)\n",
        "\n",
        "def cube(nums):\n",
        "  for i in nums:\n",
        "    print(i*i*i)\n",
        "\n",
        "import threading\n",
        "numbers = [1, 2, 3, 4, 5]\n",
        "thread1 = threading.Thread(target=sqr, args=(numbers,))\n",
        "thread2 = threading.Thread(target=cube,args=(numbers,))\n",
        "thread1.start()\n",
        "thread2.start()"
      ],
      "metadata": {
        "colab": {
          "base_uri": "https://localhost:8080/"
        },
        "id": "u-m-qjqOegB_",
        "outputId": "d237cb53-5060-416a-9e16-f88c4b8357d5"
      },
      "execution_count": 1,
      "outputs": [
        {
          "output_type": "stream",
          "name": "stdout",
          "text": [
            "1\n",
            "4\n",
            "9\n",
            "16\n",
            "25\n",
            "1\n",
            "8\n",
            "27\n",
            "64\n",
            "125\n"
          ]
        }
      ]
    },
    {
      "cell_type": "markdown",
      "source": [
        "#Q.5 State advantages and disadvantages of multithreading\n",
        "\n",
        "Advantages of Multithreading:\n",
        "1. Concurrency and Parallelism\n",
        "2. Responsiveness\n",
        "3. Resource Sharing\n",
        "4. Modularity and Maintainability\n",
        "\n",
        "Disadvantages of Multithreading:\n",
        "1. Complexity and Difficulty\n",
        "2. Increased Resource Consumption\n",
        "3. Difficulty in Debugging\n",
        "4. Potential for Thread Contentions"
      ],
      "metadata": {
        "id": "sl4cerMdgXZj"
      }
    },
    {
      "cell_type": "markdown",
      "source": [
        "#Q.6 Explain deadlocks and race conditions.\n",
        "**Deadlock**:\n",
        "Deadlock is when multiple threads are stuck waiting for each other to release resources, causing the program to freeze.\n",
        "\n",
        "**Race Condition**:\n",
        "Race condition is when the outcome of a program depends on the timing and interleaving of thread execution, leading to unpredictable and potentially incorrect results."
      ],
      "metadata": {
        "id": "7BOrM5fVgqLp"
      }
    }
  ]
}