{
  "nbformat": 4,
  "nbformat_minor": 0,
  "metadata": {
    "colab": {
      "provenance": []
    },
    "kernelspec": {
      "name": "python3",
      "display_name": "Python 3"
    },
    "language_info": {
      "name": "python"
    }
  },
  "cells": [
    {
      "cell_type": "markdown",
      "source": [
        "#Q.1)What is an Exception in Python? Write the difference between Exceptions and syntax errors?\n",
        "In Python, an exception is an event that occurs during the execution of a program that disrupts the normal flow of instructions. When an exceptional situation arises, Python raises an exception, which can be caught and handled by the program to prevent it from crashing or producing unexpected results.\n",
        "\n",
        "Syntax errors, on the other hand, are a different category of errors in Python. They occur when the code violates the rules of the Python language syntax. Syntax errors are typically detected by the Python interpreter during the parsing phase, even before the code is executed. These errors prevent the program from running and need to be fixed before the program can be executed.\n"
      ],
      "metadata": {
        "id": "Ul4-WtLPxs1X"
      }
    },
    {
      "cell_type": "code",
      "source": [
        "#Q.2)What happens when an exception is not hanndled? Explain with an example\n",
        "#When an exception is not handled in Python, it leads to the termination of\n",
        "#the program and an error message is displayed to the user.\n",
        "# a=10/0\n",
        "# print(a)\n"
      ],
      "metadata": {
        "id": "wwPr0PugyGU0"
      },
      "execution_count": null,
      "outputs": []
    },
    {
      "cell_type": "code",
      "source": [
        "#Q.3)Which Python statements are used to catch and handle exceptions? Explain with an example\n",
        "# In Python, the try-except statements are used to catch and handle exceptions.\n",
        "# The try block contains the code that may raise an exception, and\n",
        "# the except block specifies the code that handles the exception.\n",
        "\n",
        "try:\n",
        "  result = 10/ 0\n",
        "\n",
        "except Exception as e :\n",
        "  print(e)\n"
      ],
      "metadata": {
        "colab": {
          "base_uri": "https://localhost:8080/"
        },
        "id": "uAcqJBuvzWqc",
        "outputId": "4c41cb89-94a8-4cc6-a5d5-7a2fbacffd9b"
      },
      "execution_count": null,
      "outputs": [
        {
          "output_type": "stream",
          "name": "stdout",
          "text": [
            "division by zero\n"
          ]
        }
      ]
    },
    {
      "cell_type": "code",
      "source": [
        "#Q.4)\n",
        "#try else\n",
        "try:\n",
        "    num1 = int(input(\"Enter a number: \"))\n",
        "    num2 = int(input(\"Enter another number: \"))\n",
        "    result = num1 / num2\n",
        "except ZeroDivisionError:\n",
        "    print(\"Error: Division by zero is not allowed.\")\n",
        "else:\n",
        "    print(\"The result is:\", result)\n"
      ],
      "metadata": {
        "id": "LebkaA-W1mdm",
        "colab": {
          "base_uri": "https://localhost:8080/"
        },
        "outputId": "bac3310f-5725-4d06-84e3-16496bee0d25"
      },
      "execution_count": 9,
      "outputs": [
        {
          "output_type": "stream",
          "name": "stdout",
          "text": [
            "Enter a number: 10\n",
            "Enter another number: 0\n",
            "Error: Division by zero is not allowed.\n"
          ]
        }
      ]
    },
    {
      "cell_type": "code",
      "source": [
        "#finally\n",
        "try:\n",
        "    file = open(\"data.txt\", \"r\")\n",
        "    file.read()\n",
        "except FileNotFoundError :\n",
        "    print(\"Error: File could not be found.\")\n",
        "finally:\n",
        "    print(\"Done.\")\n"
      ],
      "metadata": {
        "colab": {
          "base_uri": "https://localhost:8080/"
        },
        "id": "0vT-L8QO3VbV",
        "outputId": "3a1007df-8d4a-4d2d-a56f-71ef1bc5b91d"
      },
      "execution_count": 8,
      "outputs": [
        {
          "output_type": "stream",
          "name": "stdout",
          "text": [
            "Error: File could not be found.\n",
            "Done.\n"
          ]
        }
      ]
    },
    {
      "cell_type": "code",
      "source": [
        "#raise\n",
        "def calculate_div(a,b):\n",
        "\n",
        "  if b==0:\n",
        "    raise ZeroDivisionError(\"Zero not allowed\")\n",
        "  res=a/b\n",
        "  return res\n",
        "try:\n",
        "    a=5\n",
        "    b=0\n",
        "    res = calculate_div(a,b)\n",
        "    print(\"Div:\", res)\n",
        "except Exception as e:\n",
        "    print(\"Error:\", e)\n"
      ],
      "metadata": {
        "colab": {
          "base_uri": "https://localhost:8080/"
        },
        "id": "XlNQrMrB4VNE",
        "outputId": "84628c56-e0a0-4c8c-fe9e-3fdbbd97f20a"
      },
      "execution_count": 20,
      "outputs": [
        {
          "output_type": "stream",
          "name": "stdout",
          "text": [
            "Error: Zero not allowed\n"
          ]
        }
      ]
    },
    {
      "cell_type": "code",
      "source": [
        "#Q.5)What are Custom Exceptions in python? Why do we need Custom Exceptions? Explain with an example\n",
        "# Custom exceptions, also known as user-defined exceptions, are exceptions that\n",
        "# are defined by the programmer to handle specific exceptional conditions in their code.\n",
        "# Python allows you to create your own custom exceptions by subclassing the\n",
        "# built-in Exception class or any other existing exception class.\n",
        "# Custom exceptions are useful because they allow you to create\n",
        "# specialized exception classes that provide more meaningful\n",
        "# information about the exceptional condition.\n",
        "class WithdrawalError(Exception):\n",
        "    def __init__(self , msg) :\n",
        "        self.msg = msg\n",
        "\n",
        "class BankAccount:\n",
        "    def __init__(self, balance):\n",
        "        self.balance = balance\n",
        "\n",
        "    def withdraw(self, amount):\n",
        "        if amount > self.balance:\n",
        "            raise WithdrawalError(\"Insufficient Balance.\")\n",
        "        self.balance -= amount\n",
        "        print(\"Withdrawal successful. Remaining balance:\", self.balance)\n",
        "\n",
        "try:\n",
        "    account = BankAccount(1000)\n",
        "    account.withdraw(1500)\n",
        "except Exception as e:\n",
        "    print(\"Error:\", e)\n"
      ],
      "metadata": {
        "colab": {
          "base_uri": "https://localhost:8080/"
        },
        "id": "lDuQNPXI7Q3z",
        "outputId": "2540b99f-26c6-4e0b-951a-65ba9e797be4"
      },
      "execution_count": 22,
      "outputs": [
        {
          "output_type": "stream",
          "name": "stdout",
          "text": [
            "Error: Insufficient Balance.\n"
          ]
        }
      ]
    },
    {
      "cell_type": "code",
      "source": [
        "#Q.6)Create a custom exception class. Use this class to handle an exception.\n",
        "\n",
        "class CustomException(Exception):\n",
        "    def __init__(self, message):\n",
        "        self.message = message\n",
        "def divide_numbers(a, b):\n",
        "    if b == 0:\n",
        "        raise CustomException(\"Division by zero is not allowed.\")\n",
        "    return a / b\n",
        "\n",
        "try:\n",
        "    result = divide_numbers(10, 0)\n",
        "    print(\"Result:\", result)\n",
        "except Exception as e:\n",
        "    print(\"Error:\", e)\n"
      ],
      "metadata": {
        "colab": {
          "base_uri": "https://localhost:8080/"
        },
        "id": "88eAF8xF-CIj",
        "outputId": "fda615ec-de0a-433f-ee66-21bc0ada9401"
      },
      "execution_count": 23,
      "outputs": [
        {
          "output_type": "stream",
          "name": "stdout",
          "text": [
            "Error: Division by zero is not allowed.\n"
          ]
        }
      ]
    }
  ]
}