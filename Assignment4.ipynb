{
  "nbformat": 4,
  "nbformat_minor": 0,
  "metadata": {
    "colab": {
      "provenance": []
    },
    "kernelspec": {
      "name": "python3",
      "display_name": "Python 3"
    },
    "language_info": {
      "name": "python"
    }
  },
  "cells": [
    {
      "cell_type": "code",
      "execution_count": 19,
      "metadata": {
        "colab": {
          "base_uri": "https://localhost:8080/"
        },
        "id": "mDOfPQ_rIi4W",
        "outputId": "cb35a694-5a81-47cc-d9bc-4d779110260f"
      },
      "outputs": [
        {
          "output_type": "stream",
          "name": "stdout",
          "text": [
            "('Virat Kohli', 24936)\n",
            "('Jack Kallis', 25534)\n",
            "('Ricky Ponting', 27483)\n",
            "('Sachin Tendulkar', 34357)\n"
          ]
        }
      ],
      "source": [
        "\n",
        "# Q1. Create a python program to sort the given list of tuples based on integer value using a lambda function.\n",
        "# [('Sachin Tendulkar', 34357), ('Ricky Ponting', 27483), ('Jack Kallis', 25534), ('Virat Kohli', 24936)]\n",
        "data = [('Sachin Tendulkar', 34357), ('Ricky Ponting', 27483), ('Jack Kallis', 25534), ('Virat Kohli', 24936)]\n",
        "\n",
        "sorted_data = sorted(data,key=lambda x: x[1],reverse=False)\n",
        "\n",
        "for item in sorted_data:\n",
        "    print(item)\n"
      ]
    },
    {
      "cell_type": "code",
      "source": [
        "# Q2. Write a Python Program to find the squares of all the numbers in the given list of integers using\n",
        "# lambda and map functions.\n",
        "# [1, 2, 3, 4, 5, 6, 7, 8, 9, 10]\n",
        "l=[1, 2, 3, 4, 5, 6, 7, 8, 9, 10]\n",
        "list(map(lambda x: x**2,l))"
      ],
      "metadata": {
        "colab": {
          "base_uri": "https://localhost:8080/"
        },
        "id": "x3f6oI8wPpTA",
        "outputId": "ff269b34-e20d-418f-9d4a-8218398a490e"
      },
      "execution_count": 20,
      "outputs": [
        {
          "output_type": "execute_result",
          "data": {
            "text/plain": [
              "[1, 4, 9, 16, 25, 36, 49, 64, 81, 100]"
            ]
          },
          "metadata": {},
          "execution_count": 20
        }
      ]
    },
    {
      "cell_type": "code",
      "source": [
        "# Q3. Write a python program to convert the given list of integers into a tuple of strings. Use map and\n",
        "# lambda functions\n",
        "# Given String: [1, 2, 3, 4, 5, 6, 7, 8, 9, 10]\n",
        "# Expected output: ('1', '2', '3', '4', '5', '6', '7', '8', '9', '10')\n",
        "l=[1, 2, 3, 4, 5, 6, 7, 8, 9, 10]\n",
        "tuple(map(lambda x: str(x),l))"
      ],
      "metadata": {
        "colab": {
          "base_uri": "https://localhost:8080/"
        },
        "id": "_Z6W0aYXQKdZ",
        "outputId": "cfb0d764-3185-4958-a31c-09bdbf792453"
      },
      "execution_count": 22,
      "outputs": [
        {
          "output_type": "execute_result",
          "data": {
            "text/plain": [
              "('1', '2', '3', '4', '5', '6', '7', '8', '9', '10')"
            ]
          },
          "metadata": {},
          "execution_count": 22
        }
      ]
    },
    {
      "cell_type": "code",
      "source": [
        "from functools import reduce\n",
        "#Q.4)Write a python program using reduce function to compute the product of a list containing numbers\n",
        "# from 1 to 25.\n",
        "l=range(1,26)\n",
        "c=reduce(lambda x,y: x*y,l)\n",
        "c"
      ],
      "metadata": {
        "colab": {
          "base_uri": "https://localhost:8080/"
        },
        "id": "ufjbL0e_RGJ1",
        "outputId": "0089fd83-c868-4bde-bc29-8d4f255e4857"
      },
      "execution_count": 28,
      "outputs": [
        {
          "output_type": "execute_result",
          "data": {
            "text/plain": [
              "15511210043330985984000000"
            ]
          },
          "metadata": {},
          "execution_count": 28
        }
      ]
    },
    {
      "cell_type": "code",
      "source": [
        "# Q.5)Write a python program to filter the numbers in a given list that are divisible by 2 and 3 using the\n",
        "# filter function.\n",
        "# [2, 3, 6, 9, 27, 60, 90, 120, 55, 46]\n",
        "l=[2, 3, 6, 9, 27, 60, 90, 120, 55, 46]\n",
        "list(filter(lambda x : x%2==0 and x%3==0 ,l))"
      ],
      "metadata": {
        "colab": {
          "base_uri": "https://localhost:8080/"
        },
        "id": "7Wcoiw__Sk8L",
        "outputId": "8bb1bf6a-d7ba-43f5-e36b-655ead26028b"
      },
      "execution_count": 29,
      "outputs": [
        {
          "output_type": "execute_result",
          "data": {
            "text/plain": [
              "[6, 60, 90, 120]"
            ]
          },
          "metadata": {},
          "execution_count": 29
        }
      ]
    },
    {
      "cell_type": "code",
      "source": [
        "# Q6. Write a python program to find palindromes in the given list of strings using lambda and filter\n",
        "# function.\n",
        "# ['python', 'php', 'aba', 'radar', 'level']\n",
        "l=['python', 'php', 'aba', 'radar', 'level']\n",
        "list(filter(lambda x: x==x[::-1],l))"
      ],
      "metadata": {
        "colab": {
          "base_uri": "https://localhost:8080/"
        },
        "id": "GHX3gfXFUBae",
        "outputId": "deb28986-e031-43e9-b08b-e71542c51d6b"
      },
      "execution_count": 37,
      "outputs": [
        {
          "output_type": "execute_result",
          "data": {
            "text/plain": [
              "['php', 'aba', 'radar', 'level']"
            ]
          },
          "metadata": {},
          "execution_count": 37
        }
      ]
    }
  ]
}